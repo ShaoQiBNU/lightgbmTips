{
  "nbformat": 4,
  "nbformat_minor": 0,
  "metadata": {
    "colab": {
      "provenance": []
    },
    "kernelspec": {
      "name": "python3",
      "display_name": "Python 3"
    },
    "language_info": {
      "name": "python"
    }
  },
  "cells": [
    {
      "cell_type": "code",
      "source": [
        "# load package\n",
        "from sklearn import datasets \n",
        "import pandas as pd\n",
        "from sklearn.model_selection import train_test_split\n",
        "import lightgbm as lgb\n",
        "from sklearn.metrics import mean_squared_error\n",
        "from sklearn.metrics import r2_score\n",
        "from sklearn.metrics import log_loss\n",
        "from sklearn.metrics import roc_auc_score\n",
        "from sklearn.metrics import accuracy_score\n",
        "from sklearn.metrics import  precision_score\n",
        "from sklearn.metrics import confusion_matrix\n",
        "from sklearn.metrics import classification_report\n",
        "from sklearn.metrics import cohen_kappa_score\n",
        "from sklearn.metrics import f1_score\n",
        "from sklearn.datasets import fetch_california_housing\n",
        "import numpy as np\n",
        "import random\n",
        "import matplotlib.pyplot as plt"
      ],
      "metadata": {
        "id": "TK6MTyG27sga"
      },
      "execution_count": 60,
      "outputs": []
    },
    {
      "cell_type": "code",
      "source": [
        "# 导入乳腺癌数据\n",
        "cancer = datasets.load_breast_cancer()  \n",
        "\n",
        "X = pd.DataFrame(data=cancer['data'], columns=cancer['feature_names'])\n",
        "\n",
        "# 构造label\n",
        "random_label = [random.randint(0,5) for i in range(len(X))]\n",
        "Y = pd.DataFrame(data=cancer['target'] * random_label, columns=['target']) \n",
        "\n",
        "x_train, x_test, y_train, y_test = train_test_split(X, Y, test_size=0.3, random_state=10)"
      ],
      "metadata": {
        "id": "fXxhoyGK7zQr"
      },
      "execution_count": 61,
      "outputs": []
    },
    {
      "cell_type": "code",
      "source": [
        "Y.describe()"
      ],
      "metadata": {
        "colab": {
          "base_uri": "https://localhost:8080/",
          "height": 300
        },
        "id": "hC6lfyPB7Rv9",
        "outputId": "cbd8d394-76e1-43d4-a571-6257a6dd288a"
      },
      "execution_count": 62,
      "outputs": [
        {
          "output_type": "execute_result",
          "data": {
            "text/plain": [
              "           target\n",
              "count  569.000000\n",
              "mean     1.565905\n",
              "std      1.793856\n",
              "min      0.000000\n",
              "25%      0.000000\n",
              "50%      1.000000\n",
              "75%      3.000000\n",
              "max      5.000000"
            ],
            "text/html": [
              "\n",
              "  <div id=\"df-bb46aae2-e330-431f-9730-54a99e8507b8\">\n",
              "    <div class=\"colab-df-container\">\n",
              "      <div>\n",
              "<style scoped>\n",
              "    .dataframe tbody tr th:only-of-type {\n",
              "        vertical-align: middle;\n",
              "    }\n",
              "\n",
              "    .dataframe tbody tr th {\n",
              "        vertical-align: top;\n",
              "    }\n",
              "\n",
              "    .dataframe thead th {\n",
              "        text-align: right;\n",
              "    }\n",
              "</style>\n",
              "<table border=\"1\" class=\"dataframe\">\n",
              "  <thead>\n",
              "    <tr style=\"text-align: right;\">\n",
              "      <th></th>\n",
              "      <th>target</th>\n",
              "    </tr>\n",
              "  </thead>\n",
              "  <tbody>\n",
              "    <tr>\n",
              "      <th>count</th>\n",
              "      <td>569.000000</td>\n",
              "    </tr>\n",
              "    <tr>\n",
              "      <th>mean</th>\n",
              "      <td>1.565905</td>\n",
              "    </tr>\n",
              "    <tr>\n",
              "      <th>std</th>\n",
              "      <td>1.793856</td>\n",
              "    </tr>\n",
              "    <tr>\n",
              "      <th>min</th>\n",
              "      <td>0.000000</td>\n",
              "    </tr>\n",
              "    <tr>\n",
              "      <th>25%</th>\n",
              "      <td>0.000000</td>\n",
              "    </tr>\n",
              "    <tr>\n",
              "      <th>50%</th>\n",
              "      <td>1.000000</td>\n",
              "    </tr>\n",
              "    <tr>\n",
              "      <th>75%</th>\n",
              "      <td>3.000000</td>\n",
              "    </tr>\n",
              "    <tr>\n",
              "      <th>max</th>\n",
              "      <td>5.000000</td>\n",
              "    </tr>\n",
              "  </tbody>\n",
              "</table>\n",
              "</div>\n",
              "      <button class=\"colab-df-convert\" onclick=\"convertToInteractive('df-bb46aae2-e330-431f-9730-54a99e8507b8')\"\n",
              "              title=\"Convert this dataframe to an interactive table.\"\n",
              "              style=\"display:none;\">\n",
              "        \n",
              "  <svg xmlns=\"http://www.w3.org/2000/svg\" height=\"24px\"viewBox=\"0 0 24 24\"\n",
              "       width=\"24px\">\n",
              "    <path d=\"M0 0h24v24H0V0z\" fill=\"none\"/>\n",
              "    <path d=\"M18.56 5.44l.94 2.06.94-2.06 2.06-.94-2.06-.94-.94-2.06-.94 2.06-2.06.94zm-11 1L8.5 8.5l.94-2.06 2.06-.94-2.06-.94L8.5 2.5l-.94 2.06-2.06.94zm10 10l.94 2.06.94-2.06 2.06-.94-2.06-.94-.94-2.06-.94 2.06-2.06.94z\"/><path d=\"M17.41 7.96l-1.37-1.37c-.4-.4-.92-.59-1.43-.59-.52 0-1.04.2-1.43.59L10.3 9.45l-7.72 7.72c-.78.78-.78 2.05 0 2.83L4 21.41c.39.39.9.59 1.41.59.51 0 1.02-.2 1.41-.59l7.78-7.78 2.81-2.81c.8-.78.8-2.07 0-2.86zM5.41 20L4 18.59l7.72-7.72 1.47 1.35L5.41 20z\"/>\n",
              "  </svg>\n",
              "      </button>\n",
              "      \n",
              "  <style>\n",
              "    .colab-df-container {\n",
              "      display:flex;\n",
              "      flex-wrap:wrap;\n",
              "      gap: 12px;\n",
              "    }\n",
              "\n",
              "    .colab-df-convert {\n",
              "      background-color: #E8F0FE;\n",
              "      border: none;\n",
              "      border-radius: 50%;\n",
              "      cursor: pointer;\n",
              "      display: none;\n",
              "      fill: #1967D2;\n",
              "      height: 32px;\n",
              "      padding: 0 0 0 0;\n",
              "      width: 32px;\n",
              "    }\n",
              "\n",
              "    .colab-df-convert:hover {\n",
              "      background-color: #E2EBFA;\n",
              "      box-shadow: 0px 1px 2px rgba(60, 64, 67, 0.3), 0px 1px 3px 1px rgba(60, 64, 67, 0.15);\n",
              "      fill: #174EA6;\n",
              "    }\n",
              "\n",
              "    [theme=dark] .colab-df-convert {\n",
              "      background-color: #3B4455;\n",
              "      fill: #D2E3FC;\n",
              "    }\n",
              "\n",
              "    [theme=dark] .colab-df-convert:hover {\n",
              "      background-color: #434B5C;\n",
              "      box-shadow: 0px 1px 3px 1px rgba(0, 0, 0, 0.15);\n",
              "      filter: drop-shadow(0px 1px 2px rgba(0, 0, 0, 0.3));\n",
              "      fill: #FFFFFF;\n",
              "    }\n",
              "  </style>\n",
              "\n",
              "      <script>\n",
              "        const buttonEl =\n",
              "          document.querySelector('#df-bb46aae2-e330-431f-9730-54a99e8507b8 button.colab-df-convert');\n",
              "        buttonEl.style.display =\n",
              "          google.colab.kernel.accessAllowed ? 'block' : 'none';\n",
              "\n",
              "        async function convertToInteractive(key) {\n",
              "          const element = document.querySelector('#df-bb46aae2-e330-431f-9730-54a99e8507b8');\n",
              "          const dataTable =\n",
              "            await google.colab.kernel.invokeFunction('convertToInteractive',\n",
              "                                                     [key], {});\n",
              "          if (!dataTable) return;\n",
              "\n",
              "          const docLinkHtml = 'Like what you see? Visit the ' +\n",
              "            '<a target=\"_blank\" href=https://colab.research.google.com/notebooks/data_table.ipynb>data table notebook</a>'\n",
              "            + ' to learn more about interactive tables.';\n",
              "          element.innerHTML = '';\n",
              "          dataTable['output_type'] = 'display_data';\n",
              "          await google.colab.output.renderOutput(dataTable, element);\n",
              "          const docLink = document.createElement('div');\n",
              "          docLink.innerHTML = docLinkHtml;\n",
              "          element.appendChild(docLink);\n",
              "        }\n",
              "      </script>\n",
              "    </div>\n",
              "  </div>\n",
              "  "
            ]
          },
          "metadata": {},
          "execution_count": 62
        }
      ]
    },
    {
      "cell_type": "code",
      "source": [
        "# build lightgbm data\n",
        "lgb_train = lgb.Dataset(x_train, y_train)\n",
        "lgb_eval = lgb.Dataset(x_test, y_test, reference=lgb_train)"
      ],
      "metadata": {
        "id": "6NgfJ2bp8g8J"
      },
      "execution_count": 63,
      "outputs": []
    },
    {
      "cell_type": "code",
      "source": [
        "## 设定参数\n",
        "params = {\n",
        "    'boosting_type': 'gbdt',\n",
        "    'objective': 'binary',\n",
        "    'num_leaves': 31,\n",
        "    'learning_rate': 0.05,\n",
        "    'feature_fraction': 0.9,\n",
        "    'bagging_fraction': 0.8,\n",
        "    'bagging_freq': 5,\n",
        "    'verbose': 0\n",
        "}"
      ],
      "metadata": {
        "id": "sk1BcJWI9EZF"
      },
      "execution_count": 64,
      "outputs": []
    },
    {
      "cell_type": "code",
      "source": [
        "## sigmoid\n",
        "def sigmoid(x):\n",
        "    return 1 / (1 + np.exp(-x))\n",
        "\n",
        "## 自定义损失函数需要提供损失函数的一阶和二阶导数形式\n",
        "def loglikelood(preds, train_data):\n",
        "    labels = train_data.get_label()\n",
        "    preds = sigmoid(preds)\n",
        "    grad = -labels * (1 - preds) + preds\n",
        "    hess = (labels + 1) * preds * (1 - preds)\n",
        "    return grad, hess\n",
        "\n",
        "## 自定义评估函数\n",
        "def binary_error(preds, train_data):\n",
        "    labels = train_data.get_label()\n",
        "    preds = sigmoid(preds)\n",
        "    return 'error', -np.average(labels * np.log(preds) + np.log(1 -preds)), False\n",
        "    \n",
        "\n",
        "gbm = lgb.train(params,\n",
        "                lgb_train,\n",
        "                num_boost_round=20,\n",
        "                fobj=loglikelood,\n",
        "                feval=binary_error,\n",
        "                valid_sets=[lgb_train, lgb_eval],\n",
        "                early_stopping_rounds=10)"
      ],
      "metadata": {
        "colab": {
          "base_uri": "https://localhost:8080/"
        },
        "id": "qBByZsqr8DoL",
        "outputId": "0491c9bd-c8ca-4aa8-ba55-028d3bb5f0ae"
      },
      "execution_count": 65,
      "outputs": [
        {
          "output_type": "stream",
          "name": "stdout",
          "text": [
            "[1]\ttraining's error: 1.70717\tvalid_1's error: 1.8379\n",
            "Training until validation scores don't improve for 10 rounds.\n",
            "[2]\ttraining's error: 1.67753\tvalid_1's error: 1.81108\n",
            "[3]\ttraining's error: 1.64958\tvalid_1's error: 1.78639\n",
            "[4]\ttraining's error: 1.62523\tvalid_1's error: 1.76496\n",
            "[5]\ttraining's error: 1.60086\tvalid_1's error: 1.74503\n",
            "[6]\ttraining's error: 1.57836\tvalid_1's error: 1.72789\n",
            "[7]\ttraining's error: 1.55589\tvalid_1's error: 1.70835\n",
            "[8]\ttraining's error: 1.53732\tvalid_1's error: 1.69554\n",
            "[9]\ttraining's error: 1.52037\tvalid_1's error: 1.68407\n",
            "[10]\ttraining's error: 1.50474\tvalid_1's error: 1.6728\n",
            "[11]\ttraining's error: 1.48982\tvalid_1's error: 1.66231\n",
            "[12]\ttraining's error: 1.47648\tvalid_1's error: 1.65253\n",
            "[13]\ttraining's error: 1.46354\tvalid_1's error: 1.64313\n",
            "[14]\ttraining's error: 1.45115\tvalid_1's error: 1.63393\n",
            "[15]\ttraining's error: 1.441\tvalid_1's error: 1.62677\n",
            "[16]\ttraining's error: 1.43094\tvalid_1's error: 1.6196\n",
            "[17]\ttraining's error: 1.42046\tvalid_1's error: 1.61323\n",
            "[18]\ttraining's error: 1.40946\tvalid_1's error: 1.60583\n",
            "[19]\ttraining's error: 1.40133\tvalid_1's error: 1.60001\n",
            "[20]\ttraining's error: 1.39173\tvalid_1's error: 1.59416\n",
            "Did not meet early stopping. Best iteration is:\n",
            "[20]\ttraining's error: 1.39173\tvalid_1's error: 1.59416\n"
          ]
        }
      ]
    },
    {
      "cell_type": "code",
      "source": [],
      "metadata": {
        "id": "b28bntbb97UX"
      },
      "execution_count": 65,
      "outputs": []
    }
  ]
}