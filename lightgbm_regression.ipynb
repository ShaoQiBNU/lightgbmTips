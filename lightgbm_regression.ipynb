{
  "nbformat": 4,
  "nbformat_minor": 0,
  "metadata": {
    "colab": {
      "provenance": []
    },
    "kernelspec": {
      "name": "python3",
      "display_name": "Python 3"
    },
    "language_info": {
      "name": "python"
    }
  },
  "cells": [
    {
      "cell_type": "code",
      "execution_count": 18,
      "metadata": {
        "id": "sRng8Nu0TdEh"
      },
      "outputs": [],
      "source": [
        "# load package\n",
        "from sklearn import datasets \n",
        "import pandas as pd\n",
        "from sklearn.model_selection import train_test_split\n",
        "import lightgbm as lgb\n",
        "from sklearn.metrics import mean_squared_error\n",
        "from sklearn.metrics import r2_score\n",
        "from sklearn.datasets import fetch_california_housing\n",
        "import numpy as np\n",
        "import matplotlib.pyplot as plt"
      ]
    },
    {
      "cell_type": "code",
      "source": [
        "# load data\n",
        "housing = fetch_california_housing()\n",
        "Y = pd.DataFrame(data=housing['target'], columns=housing['target_names'])\n",
        "X = pd.DataFrame(data=housing['data'], columns=housing['feature_names'])\n",
        "x_train, x_test, y_train, y_test = train_test_split(X, Y, test_size=0.3, random_state=10)"
      ],
      "metadata": {
        "id": "hdj4iduBUojW"
      },
      "execution_count": 19,
      "outputs": []
    },
    {
      "cell_type": "code",
      "source": [
        "X"
      ],
      "metadata": {
        "colab": {
          "base_uri": "https://localhost:8080/",
          "height": 424
        },
        "id": "JbHN5gY-kZyq",
        "outputId": "72f86287-4d60-496b-8224-cae361e94b3f"
      },
      "execution_count": 20,
      "outputs": [
        {
          "output_type": "execute_result",
          "data": {
            "text/plain": [
              "       MedInc  HouseAge  AveRooms  AveBedrms  Population  AveOccup  Latitude  \\\n",
              "0      8.3252      41.0  6.984127   1.023810       322.0  2.555556     37.88   \n",
              "1      8.3014      21.0  6.238137   0.971880      2401.0  2.109842     37.86   \n",
              "2      7.2574      52.0  8.288136   1.073446       496.0  2.802260     37.85   \n",
              "3      5.6431      52.0  5.817352   1.073059       558.0  2.547945     37.85   \n",
              "4      3.8462      52.0  6.281853   1.081081       565.0  2.181467     37.85   \n",
              "...       ...       ...       ...        ...         ...       ...       ...   \n",
              "20635  1.5603      25.0  5.045455   1.133333       845.0  2.560606     39.48   \n",
              "20636  2.5568      18.0  6.114035   1.315789       356.0  3.122807     39.49   \n",
              "20637  1.7000      17.0  5.205543   1.120092      1007.0  2.325635     39.43   \n",
              "20638  1.8672      18.0  5.329513   1.171920       741.0  2.123209     39.43   \n",
              "20639  2.3886      16.0  5.254717   1.162264      1387.0  2.616981     39.37   \n",
              "\n",
              "       Longitude  \n",
              "0        -122.23  \n",
              "1        -122.22  \n",
              "2        -122.24  \n",
              "3        -122.25  \n",
              "4        -122.25  \n",
              "...          ...  \n",
              "20635    -121.09  \n",
              "20636    -121.21  \n",
              "20637    -121.22  \n",
              "20638    -121.32  \n",
              "20639    -121.24  \n",
              "\n",
              "[20640 rows x 8 columns]"
            ],
            "text/html": [
              "\n",
              "  <div id=\"df-7faf5de3-07e4-4150-9be0-013f7eda3ab7\">\n",
              "    <div class=\"colab-df-container\">\n",
              "      <div>\n",
              "<style scoped>\n",
              "    .dataframe tbody tr th:only-of-type {\n",
              "        vertical-align: middle;\n",
              "    }\n",
              "\n",
              "    .dataframe tbody tr th {\n",
              "        vertical-align: top;\n",
              "    }\n",
              "\n",
              "    .dataframe thead th {\n",
              "        text-align: right;\n",
              "    }\n",
              "</style>\n",
              "<table border=\"1\" class=\"dataframe\">\n",
              "  <thead>\n",
              "    <tr style=\"text-align: right;\">\n",
              "      <th></th>\n",
              "      <th>MedInc</th>\n",
              "      <th>HouseAge</th>\n",
              "      <th>AveRooms</th>\n",
              "      <th>AveBedrms</th>\n",
              "      <th>Population</th>\n",
              "      <th>AveOccup</th>\n",
              "      <th>Latitude</th>\n",
              "      <th>Longitude</th>\n",
              "    </tr>\n",
              "  </thead>\n",
              "  <tbody>\n",
              "    <tr>\n",
              "      <th>0</th>\n",
              "      <td>8.3252</td>\n",
              "      <td>41.0</td>\n",
              "      <td>6.984127</td>\n",
              "      <td>1.023810</td>\n",
              "      <td>322.0</td>\n",
              "      <td>2.555556</td>\n",
              "      <td>37.88</td>\n",
              "      <td>-122.23</td>\n",
              "    </tr>\n",
              "    <tr>\n",
              "      <th>1</th>\n",
              "      <td>8.3014</td>\n",
              "      <td>21.0</td>\n",
              "      <td>6.238137</td>\n",
              "      <td>0.971880</td>\n",
              "      <td>2401.0</td>\n",
              "      <td>2.109842</td>\n",
              "      <td>37.86</td>\n",
              "      <td>-122.22</td>\n",
              "    </tr>\n",
              "    <tr>\n",
              "      <th>2</th>\n",
              "      <td>7.2574</td>\n",
              "      <td>52.0</td>\n",
              "      <td>8.288136</td>\n",
              "      <td>1.073446</td>\n",
              "      <td>496.0</td>\n",
              "      <td>2.802260</td>\n",
              "      <td>37.85</td>\n",
              "      <td>-122.24</td>\n",
              "    </tr>\n",
              "    <tr>\n",
              "      <th>3</th>\n",
              "      <td>5.6431</td>\n",
              "      <td>52.0</td>\n",
              "      <td>5.817352</td>\n",
              "      <td>1.073059</td>\n",
              "      <td>558.0</td>\n",
              "      <td>2.547945</td>\n",
              "      <td>37.85</td>\n",
              "      <td>-122.25</td>\n",
              "    </tr>\n",
              "    <tr>\n",
              "      <th>4</th>\n",
              "      <td>3.8462</td>\n",
              "      <td>52.0</td>\n",
              "      <td>6.281853</td>\n",
              "      <td>1.081081</td>\n",
              "      <td>565.0</td>\n",
              "      <td>2.181467</td>\n",
              "      <td>37.85</td>\n",
              "      <td>-122.25</td>\n",
              "    </tr>\n",
              "    <tr>\n",
              "      <th>...</th>\n",
              "      <td>...</td>\n",
              "      <td>...</td>\n",
              "      <td>...</td>\n",
              "      <td>...</td>\n",
              "      <td>...</td>\n",
              "      <td>...</td>\n",
              "      <td>...</td>\n",
              "      <td>...</td>\n",
              "    </tr>\n",
              "    <tr>\n",
              "      <th>20635</th>\n",
              "      <td>1.5603</td>\n",
              "      <td>25.0</td>\n",
              "      <td>5.045455</td>\n",
              "      <td>1.133333</td>\n",
              "      <td>845.0</td>\n",
              "      <td>2.560606</td>\n",
              "      <td>39.48</td>\n",
              "      <td>-121.09</td>\n",
              "    </tr>\n",
              "    <tr>\n",
              "      <th>20636</th>\n",
              "      <td>2.5568</td>\n",
              "      <td>18.0</td>\n",
              "      <td>6.114035</td>\n",
              "      <td>1.315789</td>\n",
              "      <td>356.0</td>\n",
              "      <td>3.122807</td>\n",
              "      <td>39.49</td>\n",
              "      <td>-121.21</td>\n",
              "    </tr>\n",
              "    <tr>\n",
              "      <th>20637</th>\n",
              "      <td>1.7000</td>\n",
              "      <td>17.0</td>\n",
              "      <td>5.205543</td>\n",
              "      <td>1.120092</td>\n",
              "      <td>1007.0</td>\n",
              "      <td>2.325635</td>\n",
              "      <td>39.43</td>\n",
              "      <td>-121.22</td>\n",
              "    </tr>\n",
              "    <tr>\n",
              "      <th>20638</th>\n",
              "      <td>1.8672</td>\n",
              "      <td>18.0</td>\n",
              "      <td>5.329513</td>\n",
              "      <td>1.171920</td>\n",
              "      <td>741.0</td>\n",
              "      <td>2.123209</td>\n",
              "      <td>39.43</td>\n",
              "      <td>-121.32</td>\n",
              "    </tr>\n",
              "    <tr>\n",
              "      <th>20639</th>\n",
              "      <td>2.3886</td>\n",
              "      <td>16.0</td>\n",
              "      <td>5.254717</td>\n",
              "      <td>1.162264</td>\n",
              "      <td>1387.0</td>\n",
              "      <td>2.616981</td>\n",
              "      <td>39.37</td>\n",
              "      <td>-121.24</td>\n",
              "    </tr>\n",
              "  </tbody>\n",
              "</table>\n",
              "<p>20640 rows × 8 columns</p>\n",
              "</div>\n",
              "      <button class=\"colab-df-convert\" onclick=\"convertToInteractive('df-7faf5de3-07e4-4150-9be0-013f7eda3ab7')\"\n",
              "              title=\"Convert this dataframe to an interactive table.\"\n",
              "              style=\"display:none;\">\n",
              "        \n",
              "  <svg xmlns=\"http://www.w3.org/2000/svg\" height=\"24px\"viewBox=\"0 0 24 24\"\n",
              "       width=\"24px\">\n",
              "    <path d=\"M0 0h24v24H0V0z\" fill=\"none\"/>\n",
              "    <path d=\"M18.56 5.44l.94 2.06.94-2.06 2.06-.94-2.06-.94-.94-2.06-.94 2.06-2.06.94zm-11 1L8.5 8.5l.94-2.06 2.06-.94-2.06-.94L8.5 2.5l-.94 2.06-2.06.94zm10 10l.94 2.06.94-2.06 2.06-.94-2.06-.94-.94-2.06-.94 2.06-2.06.94z\"/><path d=\"M17.41 7.96l-1.37-1.37c-.4-.4-.92-.59-1.43-.59-.52 0-1.04.2-1.43.59L10.3 9.45l-7.72 7.72c-.78.78-.78 2.05 0 2.83L4 21.41c.39.39.9.59 1.41.59.51 0 1.02-.2 1.41-.59l7.78-7.78 2.81-2.81c.8-.78.8-2.07 0-2.86zM5.41 20L4 18.59l7.72-7.72 1.47 1.35L5.41 20z\"/>\n",
              "  </svg>\n",
              "      </button>\n",
              "      \n",
              "  <style>\n",
              "    .colab-df-container {\n",
              "      display:flex;\n",
              "      flex-wrap:wrap;\n",
              "      gap: 12px;\n",
              "    }\n",
              "\n",
              "    .colab-df-convert {\n",
              "      background-color: #E8F0FE;\n",
              "      border: none;\n",
              "      border-radius: 50%;\n",
              "      cursor: pointer;\n",
              "      display: none;\n",
              "      fill: #1967D2;\n",
              "      height: 32px;\n",
              "      padding: 0 0 0 0;\n",
              "      width: 32px;\n",
              "    }\n",
              "\n",
              "    .colab-df-convert:hover {\n",
              "      background-color: #E2EBFA;\n",
              "      box-shadow: 0px 1px 2px rgba(60, 64, 67, 0.3), 0px 1px 3px 1px rgba(60, 64, 67, 0.15);\n",
              "      fill: #174EA6;\n",
              "    }\n",
              "\n",
              "    [theme=dark] .colab-df-convert {\n",
              "      background-color: #3B4455;\n",
              "      fill: #D2E3FC;\n",
              "    }\n",
              "\n",
              "    [theme=dark] .colab-df-convert:hover {\n",
              "      background-color: #434B5C;\n",
              "      box-shadow: 0px 1px 3px 1px rgba(0, 0, 0, 0.15);\n",
              "      filter: drop-shadow(0px 1px 2px rgba(0, 0, 0, 0.3));\n",
              "      fill: #FFFFFF;\n",
              "    }\n",
              "  </style>\n",
              "\n",
              "      <script>\n",
              "        const buttonEl =\n",
              "          document.querySelector('#df-7faf5de3-07e4-4150-9be0-013f7eda3ab7 button.colab-df-convert');\n",
              "        buttonEl.style.display =\n",
              "          google.colab.kernel.accessAllowed ? 'block' : 'none';\n",
              "\n",
              "        async function convertToInteractive(key) {\n",
              "          const element = document.querySelector('#df-7faf5de3-07e4-4150-9be0-013f7eda3ab7');\n",
              "          const dataTable =\n",
              "            await google.colab.kernel.invokeFunction('convertToInteractive',\n",
              "                                                     [key], {});\n",
              "          if (!dataTable) return;\n",
              "\n",
              "          const docLinkHtml = 'Like what you see? Visit the ' +\n",
              "            '<a target=\"_blank\" href=https://colab.research.google.com/notebooks/data_table.ipynb>data table notebook</a>'\n",
              "            + ' to learn more about interactive tables.';\n",
              "          element.innerHTML = '';\n",
              "          dataTable['output_type'] = 'display_data';\n",
              "          await google.colab.output.renderOutput(dataTable, element);\n",
              "          const docLink = document.createElement('div');\n",
              "          docLink.innerHTML = docLinkHtml;\n",
              "          element.appendChild(docLink);\n",
              "        }\n",
              "      </script>\n",
              "    </div>\n",
              "  </div>\n",
              "  "
            ]
          },
          "metadata": {},
          "execution_count": 20
        }
      ]
    },
    {
      "cell_type": "code",
      "source": [
        "Y"
      ],
      "metadata": {
        "colab": {
          "base_uri": "https://localhost:8080/",
          "height": 424
        },
        "id": "mX1B3TPTkdJ6",
        "outputId": "7bd055f2-7242-4bf0-a877-42aecc1c37fd"
      },
      "execution_count": 21,
      "outputs": [
        {
          "output_type": "execute_result",
          "data": {
            "text/plain": [
              "       MedHouseVal\n",
              "0            4.526\n",
              "1            3.585\n",
              "2            3.521\n",
              "3            3.413\n",
              "4            3.422\n",
              "...            ...\n",
              "20635        0.781\n",
              "20636        0.771\n",
              "20637        0.923\n",
              "20638        0.847\n",
              "20639        0.894\n",
              "\n",
              "[20640 rows x 1 columns]"
            ],
            "text/html": [
              "\n",
              "  <div id=\"df-425d4116-8c95-48aa-86bc-0cdf399d36f2\">\n",
              "    <div class=\"colab-df-container\">\n",
              "      <div>\n",
              "<style scoped>\n",
              "    .dataframe tbody tr th:only-of-type {\n",
              "        vertical-align: middle;\n",
              "    }\n",
              "\n",
              "    .dataframe tbody tr th {\n",
              "        vertical-align: top;\n",
              "    }\n",
              "\n",
              "    .dataframe thead th {\n",
              "        text-align: right;\n",
              "    }\n",
              "</style>\n",
              "<table border=\"1\" class=\"dataframe\">\n",
              "  <thead>\n",
              "    <tr style=\"text-align: right;\">\n",
              "      <th></th>\n",
              "      <th>MedHouseVal</th>\n",
              "    </tr>\n",
              "  </thead>\n",
              "  <tbody>\n",
              "    <tr>\n",
              "      <th>0</th>\n",
              "      <td>4.526</td>\n",
              "    </tr>\n",
              "    <tr>\n",
              "      <th>1</th>\n",
              "      <td>3.585</td>\n",
              "    </tr>\n",
              "    <tr>\n",
              "      <th>2</th>\n",
              "      <td>3.521</td>\n",
              "    </tr>\n",
              "    <tr>\n",
              "      <th>3</th>\n",
              "      <td>3.413</td>\n",
              "    </tr>\n",
              "    <tr>\n",
              "      <th>4</th>\n",
              "      <td>3.422</td>\n",
              "    </tr>\n",
              "    <tr>\n",
              "      <th>...</th>\n",
              "      <td>...</td>\n",
              "    </tr>\n",
              "    <tr>\n",
              "      <th>20635</th>\n",
              "      <td>0.781</td>\n",
              "    </tr>\n",
              "    <tr>\n",
              "      <th>20636</th>\n",
              "      <td>0.771</td>\n",
              "    </tr>\n",
              "    <tr>\n",
              "      <th>20637</th>\n",
              "      <td>0.923</td>\n",
              "    </tr>\n",
              "    <tr>\n",
              "      <th>20638</th>\n",
              "      <td>0.847</td>\n",
              "    </tr>\n",
              "    <tr>\n",
              "      <th>20639</th>\n",
              "      <td>0.894</td>\n",
              "    </tr>\n",
              "  </tbody>\n",
              "</table>\n",
              "<p>20640 rows × 1 columns</p>\n",
              "</div>\n",
              "      <button class=\"colab-df-convert\" onclick=\"convertToInteractive('df-425d4116-8c95-48aa-86bc-0cdf399d36f2')\"\n",
              "              title=\"Convert this dataframe to an interactive table.\"\n",
              "              style=\"display:none;\">\n",
              "        \n",
              "  <svg xmlns=\"http://www.w3.org/2000/svg\" height=\"24px\"viewBox=\"0 0 24 24\"\n",
              "       width=\"24px\">\n",
              "    <path d=\"M0 0h24v24H0V0z\" fill=\"none\"/>\n",
              "    <path d=\"M18.56 5.44l.94 2.06.94-2.06 2.06-.94-2.06-.94-.94-2.06-.94 2.06-2.06.94zm-11 1L8.5 8.5l.94-2.06 2.06-.94-2.06-.94L8.5 2.5l-.94 2.06-2.06.94zm10 10l.94 2.06.94-2.06 2.06-.94-2.06-.94-.94-2.06-.94 2.06-2.06.94z\"/><path d=\"M17.41 7.96l-1.37-1.37c-.4-.4-.92-.59-1.43-.59-.52 0-1.04.2-1.43.59L10.3 9.45l-7.72 7.72c-.78.78-.78 2.05 0 2.83L4 21.41c.39.39.9.59 1.41.59.51 0 1.02-.2 1.41-.59l7.78-7.78 2.81-2.81c.8-.78.8-2.07 0-2.86zM5.41 20L4 18.59l7.72-7.72 1.47 1.35L5.41 20z\"/>\n",
              "  </svg>\n",
              "      </button>\n",
              "      \n",
              "  <style>\n",
              "    .colab-df-container {\n",
              "      display:flex;\n",
              "      flex-wrap:wrap;\n",
              "      gap: 12px;\n",
              "    }\n",
              "\n",
              "    .colab-df-convert {\n",
              "      background-color: #E8F0FE;\n",
              "      border: none;\n",
              "      border-radius: 50%;\n",
              "      cursor: pointer;\n",
              "      display: none;\n",
              "      fill: #1967D2;\n",
              "      height: 32px;\n",
              "      padding: 0 0 0 0;\n",
              "      width: 32px;\n",
              "    }\n",
              "\n",
              "    .colab-df-convert:hover {\n",
              "      background-color: #E2EBFA;\n",
              "      box-shadow: 0px 1px 2px rgba(60, 64, 67, 0.3), 0px 1px 3px 1px rgba(60, 64, 67, 0.15);\n",
              "      fill: #174EA6;\n",
              "    }\n",
              "\n",
              "    [theme=dark] .colab-df-convert {\n",
              "      background-color: #3B4455;\n",
              "      fill: #D2E3FC;\n",
              "    }\n",
              "\n",
              "    [theme=dark] .colab-df-convert:hover {\n",
              "      background-color: #434B5C;\n",
              "      box-shadow: 0px 1px 3px 1px rgba(0, 0, 0, 0.15);\n",
              "      filter: drop-shadow(0px 1px 2px rgba(0, 0, 0, 0.3));\n",
              "      fill: #FFFFFF;\n",
              "    }\n",
              "  </style>\n",
              "\n",
              "      <script>\n",
              "        const buttonEl =\n",
              "          document.querySelector('#df-425d4116-8c95-48aa-86bc-0cdf399d36f2 button.colab-df-convert');\n",
              "        buttonEl.style.display =\n",
              "          google.colab.kernel.accessAllowed ? 'block' : 'none';\n",
              "\n",
              "        async function convertToInteractive(key) {\n",
              "          const element = document.querySelector('#df-425d4116-8c95-48aa-86bc-0cdf399d36f2');\n",
              "          const dataTable =\n",
              "            await google.colab.kernel.invokeFunction('convertToInteractive',\n",
              "                                                     [key], {});\n",
              "          if (!dataTable) return;\n",
              "\n",
              "          const docLinkHtml = 'Like what you see? Visit the ' +\n",
              "            '<a target=\"_blank\" href=https://colab.research.google.com/notebooks/data_table.ipynb>data table notebook</a>'\n",
              "            + ' to learn more about interactive tables.';\n",
              "          element.innerHTML = '';\n",
              "          dataTable['output_type'] = 'display_data';\n",
              "          await google.colab.output.renderOutput(dataTable, element);\n",
              "          const docLink = document.createElement('div');\n",
              "          docLink.innerHTML = docLinkHtml;\n",
              "          element.appendChild(docLink);\n",
              "        }\n",
              "      </script>\n",
              "    </div>\n",
              "  </div>\n",
              "  "
            ]
          },
          "metadata": {},
          "execution_count": 21
        }
      ]
    },
    {
      "cell_type": "code",
      "source": [
        "# build lightgbm data\n",
        "lgb_train = lgb.Dataset(x_train, y_train)\n",
        "lgb_eval = lgb.Dataset(x_test, y_test, reference=lgb_train)"
      ],
      "metadata": {
        "id": "gSrflrIqXahT"
      },
      "execution_count": 22,
      "outputs": []
    },
    {
      "cell_type": "code",
      "source": [
        "# set params\n",
        "params = {\n",
        "    'task': 'train',\n",
        "    'boosting_type': 'gbdt',\n",
        "    'objective': 'regression',\n",
        "    'metric': {'l2'},\n",
        "    'num_leaves': 31,\n",
        "    'learning_rate': 0.05,\n",
        "    'feature_fraction': 0.9,\n",
        "    'bagging_fraction': 0.8,\n",
        "    'bagging_freq': 5,\n",
        "    'verbose': 0\n",
        "}"
      ],
      "metadata": {
        "id": "FFpjviz2XtXn"
      },
      "execution_count": 23,
      "outputs": []
    },
    {
      "cell_type": "code",
      "source": [
        "# model train\n",
        "gbm1 = lgb.train(params,\n",
        "                lgb_train,\n",
        "                num_boost_round=20,\n",
        "                valid_sets=[lgb_train, lgb_eval],\n",
        "                early_stopping_rounds=10)"
      ],
      "metadata": {
        "colab": {
          "base_uri": "https://localhost:8080/"
        },
        "id": "U1EYXyZnXtaE",
        "outputId": "1bdba2ac-0656-49e0-fb4a-f076e58122e9"
      },
      "execution_count": 24,
      "outputs": [
        {
          "output_type": "stream",
          "name": "stdout",
          "text": [
            "[1]\ttraining's l2: 1.23856\tvalid_1's l2: 1.2715\n",
            "Training until validation scores don't improve for 10 rounds.\n",
            "[2]\ttraining's l2: 1.16057\tvalid_1's l2: 1.19255\n",
            "[3]\ttraining's l2: 1.09633\tvalid_1's l2: 1.12749\n",
            "[4]\ttraining's l2: 1.03179\tvalid_1's l2: 1.06198\n",
            "[5]\ttraining's l2: 0.979685\tvalid_1's l2: 1.0094\n",
            "[6]\ttraining's l2: 0.925378\tvalid_1's l2: 0.953761\n",
            "[7]\ttraining's l2: 0.876336\tvalid_1's l2: 0.904049\n",
            "[8]\ttraining's l2: 0.828646\tvalid_1's l2: 0.856528\n",
            "[9]\ttraining's l2: 0.787129\tvalid_1's l2: 0.814784\n",
            "[10]\ttraining's l2: 0.74667\tvalid_1's l2: 0.773438\n",
            "[11]\ttraining's l2: 0.712037\tvalid_1's l2: 0.738821\n",
            "[12]\ttraining's l2: 0.679931\tvalid_1's l2: 0.706476\n",
            "[13]\ttraining's l2: 0.651992\tvalid_1's l2: 0.679253\n",
            "[14]\ttraining's l2: 0.622372\tvalid_1's l2: 0.650223\n",
            "[15]\ttraining's l2: 0.595443\tvalid_1's l2: 0.623187\n",
            "[16]\ttraining's l2: 0.570915\tvalid_1's l2: 0.599406\n",
            "[17]\ttraining's l2: 0.549103\tvalid_1's l2: 0.577307\n",
            "[18]\ttraining's l2: 0.52927\tvalid_1's l2: 0.55756\n",
            "[19]\ttraining's l2: 0.510518\tvalid_1's l2: 0.53932\n",
            "[20]\ttraining's l2: 0.493825\tvalid_1's l2: 0.522831\n",
            "Did not meet early stopping. Best iteration is:\n",
            "[20]\ttraining's l2: 0.493825\tvalid_1's l2: 0.522831\n"
          ]
        }
      ]
    },
    {
      "cell_type": "code",
      "source": [
        "# custom loss and eval\n",
        "def custom_mse_loss(y_pred, data):\n",
        "    y_true = data.get_label()\n",
        "    error = y_pred-y_true\n",
        "    \n",
        "    #1st derivative of loss function\n",
        "    grad = 2 * error\n",
        "\n",
        "    #2nd derivative of loss function\n",
        "    hess = 0 * error + 2\n",
        "    \n",
        "    return grad, hess\n",
        "\n",
        "def custom_mse_eval(y_pred, data):\n",
        "\n",
        "    y_true = data.get_label()\n",
        "    error = y_pred-y_true\n",
        "\n",
        "    return 'l2 loss custom', np.mean(np.square(error)), False\n",
        "\n",
        "gbm2 = lgb.train(params,\n",
        "                lgb_train,\n",
        "                fobj=custom_mse_loss,\n",
        "                feval=custom_mse_eval,\n",
        "                num_boost_round=30,\n",
        "                valid_sets=[lgb_train, lgb_eval],\n",
        "                early_stopping_rounds=10)"
      ],
      "metadata": {
        "colab": {
          "base_uri": "https://localhost:8080/"
        },
        "id": "nQReTdlJYNRM",
        "outputId": "42f3fa81-8993-4a03-fce6-0116f41d38b7"
      },
      "execution_count": 26,
      "outputs": [
        {
          "output_type": "stream",
          "name": "stdout",
          "text": [
            "[1]\ttraining's l2: 5.0927\ttraining's l2 loss custom: 5.0927\tvalid_1's l2: 5.15175\tvalid_1's l2 loss custom: 5.15175\n",
            "Training until validation scores don't improve for 10 rounds.\n",
            "[2]\ttraining's l2: 4.6387\ttraining's l2 loss custom: 4.6387\tvalid_1's l2: 4.69574\tvalid_1's l2 loss custom: 4.69574\n",
            "[3]\ttraining's l2: 4.23561\ttraining's l2 loss custom: 4.23561\tvalid_1's l2: 4.29176\tvalid_1's l2 loss custom: 4.29176\n",
            "[4]\ttraining's l2: 3.8645\ttraining's l2 loss custom: 3.8645\tvalid_1's l2: 3.91779\tvalid_1's l2 loss custom: 3.91779\n",
            "[5]\ttraining's l2: 3.53621\ttraining's l2 loss custom: 3.53621\tvalid_1's l2: 3.58798\tvalid_1's l2 loss custom: 3.58798\n",
            "[6]\ttraining's l2: 3.23229\ttraining's l2 loss custom: 3.23229\tvalid_1's l2: 3.28141\tvalid_1's l2 loss custom: 3.28141\n",
            "[7]\ttraining's l2: 2.95794\ttraining's l2 loss custom: 2.95794\tvalid_1's l2: 3.00386\tvalid_1's l2 loss custom: 3.00386\n",
            "[8]\ttraining's l2: 2.70724\ttraining's l2 loss custom: 2.70724\tvalid_1's l2: 2.75177\tvalid_1's l2 loss custom: 2.75177\n",
            "[9]\ttraining's l2: 2.48219\ttraining's l2 loss custom: 2.48219\tvalid_1's l2: 2.52559\tvalid_1's l2 loss custom: 2.52559\n",
            "[10]\ttraining's l2: 2.27626\ttraining's l2 loss custom: 2.27626\tvalid_1's l2: 2.31704\tvalid_1's l2 loss custom: 2.31704\n",
            "[11]\ttraining's l2: 2.09297\ttraining's l2 loss custom: 2.09297\tvalid_1's l2: 2.13314\tvalid_1's l2 loss custom: 2.13314\n",
            "[12]\ttraining's l2: 1.92645\ttraining's l2 loss custom: 1.92645\tvalid_1's l2: 1.96523\tvalid_1's l2 loss custom: 1.96523\n",
            "[13]\ttraining's l2: 1.77721\ttraining's l2 loss custom: 1.77721\tvalid_1's l2: 1.81642\tvalid_1's l2 loss custom: 1.81642\n",
            "[14]\ttraining's l2: 1.63816\ttraining's l2 loss custom: 1.63816\tvalid_1's l2: 1.67793\tvalid_1's l2 loss custom: 1.67793\n",
            "[15]\ttraining's l2: 1.51229\ttraining's l2 loss custom: 1.51229\tvalid_1's l2: 1.55136\tvalid_1's l2 loss custom: 1.55136\n",
            "[16]\ttraining's l2: 1.39817\ttraining's l2 loss custom: 1.39817\tvalid_1's l2: 1.43762\tvalid_1's l2 loss custom: 1.43762\n",
            "[17]\ttraining's l2: 1.29552\ttraining's l2 loss custom: 1.29552\tvalid_1's l2: 1.3341\tvalid_1's l2 loss custom: 1.3341\n",
            "[18]\ttraining's l2: 1.20288\ttraining's l2 loss custom: 1.20288\tvalid_1's l2: 1.24081\tvalid_1's l2 loss custom: 1.24081\n",
            "[19]\ttraining's l2: 1.11832\ttraining's l2 loss custom: 1.11832\tvalid_1's l2: 1.15658\tvalid_1's l2 loss custom: 1.15658\n",
            "[20]\ttraining's l2: 1.04232\ttraining's l2 loss custom: 1.04232\tvalid_1's l2: 1.08042\tvalid_1's l2 loss custom: 1.08042\n",
            "[21]\ttraining's l2: 0.973282\ttraining's l2 loss custom: 0.973282\tvalid_1's l2: 1.01089\tvalid_1's l2 loss custom: 1.01089\n",
            "[22]\ttraining's l2: 0.909042\ttraining's l2 loss custom: 0.909042\tvalid_1's l2: 0.945647\tvalid_1's l2 loss custom: 0.945647\n",
            "[23]\ttraining's l2: 0.850424\ttraining's l2 loss custom: 0.850424\tvalid_1's l2: 0.886551\tvalid_1's l2 loss custom: 0.886551\n",
            "[24]\ttraining's l2: 0.796268\ttraining's l2 loss custom: 0.796268\tvalid_1's l2: 0.832558\tvalid_1's l2 loss custom: 0.832558\n",
            "[25]\ttraining's l2: 0.749875\ttraining's l2 loss custom: 0.749875\tvalid_1's l2: 0.785854\tvalid_1's l2 loss custom: 0.785854\n",
            "[26]\ttraining's l2: 0.707394\ttraining's l2 loss custom: 0.707394\tvalid_1's l2: 0.743053\tvalid_1's l2 loss custom: 0.743053\n",
            "[27]\ttraining's l2: 0.669198\ttraining's l2 loss custom: 0.669198\tvalid_1's l2: 0.704867\tvalid_1's l2 loss custom: 0.704867\n",
            "[28]\ttraining's l2: 0.631962\ttraining's l2 loss custom: 0.631962\tvalid_1's l2: 0.667879\tvalid_1's l2 loss custom: 0.667879\n",
            "[29]\ttraining's l2: 0.598686\ttraining's l2 loss custom: 0.598686\tvalid_1's l2: 0.634531\tvalid_1's l2 loss custom: 0.63453\n",
            "[30]\ttraining's l2: 0.569876\ttraining's l2 loss custom: 0.569876\tvalid_1's l2: 0.605438\tvalid_1's l2 loss custom: 0.605438\n",
            "Did not meet early stopping. Best iteration is:\n",
            "[30]\ttraining's l2: 0.569876\ttraining's l2 loss custom: 0.569876\tvalid_1's l2: 0.605438\tvalid_1's l2 loss custom: 0.605438\n"
          ]
        }
      ]
    },
    {
      "cell_type": "code",
      "source": [
        "## 预测\n",
        "y_pred1 = gbm1.predict(x_test, num_iteration=gbm1.best_iteration)\n",
        "\n",
        "## 评估\n",
        "print('原始lightgbm预测结果指标:')\n",
        "print('MSE为：', mean_squared_error(y_test,y_pred1))\n",
        "print('RMSE:', mean_squared_error(y_test, y_pred1) ** 0.5)\n",
        "print('R^2:', r2_score(y_test, y_pred1))"
      ],
      "metadata": {
        "colab": {
          "base_uri": "https://localhost:8080/"
        },
        "id": "NARoBcA2fdaB",
        "outputId": "0916672e-c13e-45ed-d64a-d791fbbebd47"
      },
      "execution_count": 27,
      "outputs": [
        {
          "output_type": "stream",
          "name": "stdout",
          "text": [
            "原始lightgbm预测结果指标:\n",
            "MSE为： 0.5228308966725237\n",
            "RMSE: 0.7230704645278521\n",
            "R^2: 0.6143295059957307\n"
          ]
        }
      ]
    },
    {
      "cell_type": "code",
      "source": [
        "## 预测\n",
        "y_pred2 = gbm2.predict(x_test, num_iteration=gbm2.best_iteration)\n",
        "## 评估\n",
        "print('自定义loss和eval的lightgbm预测结果指标:')\n",
        "print('MSE为：', mean_squared_error(y_test,y_pred2))\n",
        "print('RMSE:', mean_squared_error(y_test, y_pred2) ** 0.5)\n",
        "print('R^2:', r2_score(y_test, y_pred2))\n"
      ],
      "metadata": {
        "colab": {
          "base_uri": "https://localhost:8080/"
        },
        "id": "pvIZdJhDfdcl",
        "outputId": "73019726-c120-427a-a1b6-492ba29878f6"
      },
      "execution_count": 28,
      "outputs": [
        {
          "output_type": "stream",
          "name": "stdout",
          "text": [
            "自定义loss和eval的lightgbm预测结果指标:\n",
            "MSE为： 0.6054379525778563\n",
            "RMSE: 0.77809893495484\n",
            "R^2: 0.553393734483354\n"
          ]
        }
      ]
    },
    {
      "cell_type": "code",
      "source": [
        "print('原始lightgbm特征重要度')\n",
        "ax = lgb.plot_importance(gbm1, max_num_features=10)\n",
        "plt.show()"
      ],
      "metadata": {
        "colab": {
          "base_uri": "https://localhost:8080/",
          "height": 313
        },
        "id": "3zq5MEtPfdfG",
        "outputId": "09d55c7d-cb67-4724-cc72-d6afcdc13eb1"
      },
      "execution_count": 29,
      "outputs": [
        {
          "output_type": "stream",
          "name": "stdout",
          "text": [
            "原始lightgbm特征重要度\n"
          ]
        },
        {
          "output_type": "display_data",
          "data": {
            "text/plain": [
              "<Figure size 432x288 with 1 Axes>"
            ],
            "image/png": "[encoded data removed]"
          },
          "metadata": {
            "needs_background": "light"
          }
        }
      ]
    },
    {
      "cell_type": "code",
      "source": [
        "print('自定义loss和eval的特征重要度')\n",
        "ax = lgb.plot_importance(gbm2, max_num_features=10)\n",
        "plt.show()"
      ],
      "metadata": {
        "colab": {
          "base_uri": "https://localhost:8080/",
          "height": 313
        },
        "id": "mxqkeOwYfdhb",
        "outputId": "7a7f6119-b62b-4736-ff7a-cad1fc4ebf51"
      },
      "execution_count": 30,
      "outputs": [
        {
          "output_type": "stream",
          "name": "stdout",
          "text": [
            "自定义loss和eval的特征重要度\n"
          ]
        },
        {
          "output_type": "display_data",
          "data": {
            "text/plain": [
              "<Figure size 432x288 with 1 Axes>"
            ],
            "image/png": "[encoded data removed]"
          },
          "metadata": {
            "needs_background": "light"
          }
        }
      ]
    },
    {
      "cell_type": "code",
      "source": [
        "def custom_asymmetric_train(y_pred, data):\n",
        "    y_true = data.get_label()\n",
        "    residual = (y_true - y_pred)\n",
        "    grad = np.where(residual<0, -2*10.0*residual, -2*residual)\n",
        "    hess = np.where(residual<0, 2*10.0, 2.0)\n",
        "    return grad, hess\n",
        "\n",
        "def custom_asymmetric_valid(y_pred, data):\n",
        "    y_true = data.get_label()\n",
        "    residual = (y_true - y_pred)\n",
        "    loss = np.where(residual < 0, (residual**2)*10.0, residual**2) \n",
        "    return \"custom_asymmetric_eval\", np.mean(loss), False\n",
        "\n",
        "gbm3 = lgb.train(params,\n",
        "                lgb_train,\n",
        "                fobj=custom_asymmetric_train,\n",
        "                feval=custom_asymmetric_valid,\n",
        "                num_boost_round=50,\n",
        "                valid_sets=[lgb_train, lgb_eval],\n",
        "                early_stopping_rounds=10)\n"
      ],
      "metadata": {
        "colab": {
          "base_uri": "https://localhost:8080/"
        },
        "id": "wOL26ADal681",
        "outputId": "62466244-ae03-4dd8-cddc-283d00848426"
      },
      "execution_count": 39,
      "outputs": [
        {
          "output_type": "stream",
          "name": "stdout",
          "text": [
            "[1]\ttraining's l2: 5.0927\ttraining's custom_asymmetric_eval: 5.0927\tvalid_1's l2: 5.15175\tvalid_1's custom_asymmetric_eval: 5.15175\n",
            "Training until validation scores don't improve for 10 rounds.\n",
            "[2]\ttraining's l2: 4.6387\ttraining's custom_asymmetric_eval: 4.6387\tvalid_1's l2: 4.69574\tvalid_1's custom_asymmetric_eval: 4.69574\n",
            "[3]\ttraining's l2: 4.23781\ttraining's custom_asymmetric_eval: 4.23784\tvalid_1's l2: 4.29351\tvalid_1's custom_asymmetric_eval: 4.29351\n",
            "[4]\ttraining's l2: 3.86699\ttraining's custom_asymmetric_eval: 3.86709\tvalid_1's l2: 3.9201\tvalid_1's custom_asymmetric_eval: 3.92011\n",
            "[5]\ttraining's l2: 3.53949\ttraining's custom_asymmetric_eval: 3.53974\tvalid_1's l2: 3.59231\tvalid_1's custom_asymmetric_eval: 3.59237\n",
            "[6]\ttraining's l2: 3.23706\ttraining's custom_asymmetric_eval: 3.2375\tvalid_1's l2: 3.28778\tvalid_1's custom_asymmetric_eval: 3.28801\n",
            "[7]\ttraining's l2: 2.96089\ttraining's custom_asymmetric_eval: 2.96161\tvalid_1's l2: 3.00913\tvalid_1's custom_asymmetric_eval: 3.00962\n",
            "[8]\ttraining's l2: 2.71534\ttraining's custom_asymmetric_eval: 2.71645\tvalid_1's l2: 2.76222\tvalid_1's custom_asymmetric_eval: 2.76313\n",
            "[9]\ttraining's l2: 2.49283\ttraining's custom_asymmetric_eval: 2.49448\tvalid_1's l2: 2.53791\tvalid_1's custom_asymmetric_eval: 2.53953\n",
            "[10]\ttraining's l2: 2.29248\ttraining's custom_asymmetric_eval: 2.29483\tvalid_1's l2: 2.33641\tvalid_1's custom_asymmetric_eval: 2.33912\n",
            "[11]\ttraining's l2: 2.1128\ttraining's custom_asymmetric_eval: 2.11584\tvalid_1's l2: 2.1559\tvalid_1's custom_asymmetric_eval: 2.15961\n",
            "[12]\ttraining's l2: 1.95177\ttraining's custom_asymmetric_eval: 1.95571\tvalid_1's l2: 1.99366\tvalid_1's custom_asymmetric_eval: 1.99878\n",
            "[13]\ttraining's l2: 1.80132\ttraining's custom_asymmetric_eval: 1.80627\tvalid_1's l2: 1.84364\tvalid_1's custom_asymmetric_eval: 1.85012\n",
            "[14]\ttraining's l2: 1.66679\ttraining's custom_asymmetric_eval: 1.67297\tvalid_1's l2: 1.70894\tvalid_1's custom_asymmetric_eval: 1.71699\n",
            "[15]\ttraining's l2: 1.54546\ttraining's custom_asymmetric_eval: 1.55317\tvalid_1's l2: 1.58745\tvalid_1's custom_asymmetric_eval: 1.59822\n",
            "[16]\ttraining's l2: 1.43316\ttraining's custom_asymmetric_eval: 1.44227\tvalid_1's l2: 1.47501\tvalid_1's custom_asymmetric_eval: 1.48736\n",
            "[17]\ttraining's l2: 1.33712\ttraining's custom_asymmetric_eval: 1.34801\tvalid_1's l2: 1.37764\tvalid_1's custom_asymmetric_eval: 1.39286\n",
            "[18]\ttraining's l2: 1.25244\ttraining's custom_asymmetric_eval: 1.26538\tvalid_1's l2: 1.292\tvalid_1's custom_asymmetric_eval: 1.3104\n",
            "[19]\ttraining's l2: 1.17411\ttraining's custom_asymmetric_eval: 1.18892\tvalid_1's l2: 1.21337\tvalid_1's custom_asymmetric_eval: 1.23437\n",
            "[20]\ttraining's l2: 1.10575\ttraining's custom_asymmetric_eval: 1.12273\tvalid_1's l2: 1.14398\tvalid_1's custom_asymmetric_eval: 1.16826\n",
            "[21]\ttraining's l2: 1.04732\ttraining's custom_asymmetric_eval: 1.06656\tvalid_1's l2: 1.08485\tvalid_1's custom_asymmetric_eval: 1.11203\n",
            "[22]\ttraining's l2: 0.989278\ttraining's custom_asymmetric_eval: 1.01069\tvalid_1's l2: 1.02666\tvalid_1's custom_asymmetric_eval: 1.05733\n",
            "[23]\ttraining's l2: 0.934514\ttraining's custom_asymmetric_eval: 0.957854\tvalid_1's l2: 0.972244\tvalid_1's custom_asymmetric_eval: 1.00576\n",
            "[24]\ttraining's l2: 0.886969\ttraining's custom_asymmetric_eval: 0.912652\tvalid_1's l2: 0.924685\tvalid_1's custom_asymmetric_eval: 0.961327\n",
            "[25]\ttraining's l2: 0.847725\ttraining's custom_asymmetric_eval: 0.875697\tvalid_1's l2: 0.885173\tvalid_1's custom_asymmetric_eval: 0.92579\n",
            "[26]\ttraining's l2: 0.810223\ttraining's custom_asymmetric_eval: 0.84064\tvalid_1's l2: 0.847165\tvalid_1's custom_asymmetric_eval: 0.891717\n",
            "[27]\ttraining's l2: 0.777797\ttraining's custom_asymmetric_eval: 0.810992\tvalid_1's l2: 0.814646\tvalid_1's custom_asymmetric_eval: 0.863496\n",
            "[28]\ttraining's l2: 0.744456\ttraining's custom_asymmetric_eval: 0.780125\tvalid_1's l2: 0.781035\tvalid_1's custom_asymmetric_eval: 0.833604\n",
            "[29]\ttraining's l2: 0.712259\ttraining's custom_asymmetric_eval: 0.750378\tvalid_1's l2: 0.748455\tvalid_1's custom_asymmetric_eval: 0.804653\n",
            "[30]\ttraining's l2: 0.68632\ttraining's custom_asymmetric_eval: 0.726848\tvalid_1's l2: 0.72235\tvalid_1's custom_asymmetric_eval: 0.78228\n",
            "[31]\ttraining's l2: 0.662804\ttraining's custom_asymmetric_eval: 0.706161\tvalid_1's l2: 0.698748\tvalid_1's custom_asymmetric_eval: 0.762905\n",
            "[32]\ttraining's l2: 0.636853\ttraining's custom_asymmetric_eval: 0.682271\tvalid_1's l2: 0.672927\tvalid_1's custom_asymmetric_eval: 0.7397\n",
            "[33]\ttraining's l2: 0.617302\ttraining's custom_asymmetric_eval: 0.665469\tvalid_1's l2: 0.653675\tvalid_1's custom_asymmetric_eval: 0.72442\n",
            "[34]\ttraining's l2: 0.592178\ttraining's custom_asymmetric_eval: 0.642115\tvalid_1's l2: 0.628795\tvalid_1's custom_asymmetric_eval: 0.702119\n",
            "[35]\ttraining's l2: 0.570671\ttraining's custom_asymmetric_eval: 0.622691\tvalid_1's l2: 0.608081\tvalid_1's custom_asymmetric_eval: 0.684545\n",
            "[36]\ttraining's l2: 0.550625\ttraining's custom_asymmetric_eval: 0.60411\tvalid_1's l2: 0.58787\tvalid_1's custom_asymmetric_eval: 0.667025\n",
            "[37]\ttraining's l2: 0.537183\ttraining's custom_asymmetric_eval: 0.592653\tvalid_1's l2: 0.574364\tvalid_1's custom_asymmetric_eval: 0.65693\n",
            "[38]\ttraining's l2: 0.521668\ttraining's custom_asymmetric_eval: 0.579102\tvalid_1's l2: 0.559135\tvalid_1's custom_asymmetric_eval: 0.644556\n",
            "[39]\ttraining's l2: 0.508062\ttraining's custom_asymmetric_eval: 0.567456\tvalid_1's l2: 0.545883\tvalid_1's custom_asymmetric_eval: 0.633955\n",
            "[40]\ttraining's l2: 0.496016\ttraining's custom_asymmetric_eval: 0.55736\tvalid_1's l2: 0.534056\tvalid_1's custom_asymmetric_eval: 0.624962\n",
            "[41]\ttraining's l2: 0.486447\ttraining's custom_asymmetric_eval: 0.549348\tvalid_1's l2: 0.524774\tvalid_1's custom_asymmetric_eval: 0.618775\n",
            "[42]\ttraining's l2: 0.474213\ttraining's custom_asymmetric_eval: 0.538549\tvalid_1's l2: 0.513174\tvalid_1's custom_asymmetric_eval: 0.609735\n",
            "[43]\ttraining's l2: 0.462918\ttraining's custom_asymmetric_eval: 0.528622\tvalid_1's l2: 0.50267\tvalid_1's custom_asymmetric_eval: 0.601886\n",
            "[44]\ttraining's l2: 0.453485\ttraining's custom_asymmetric_eval: 0.520779\tvalid_1's l2: 0.493903\tvalid_1's custom_asymmetric_eval: 0.595802\n",
            "[45]\ttraining's l2: 0.443657\ttraining's custom_asymmetric_eval: 0.512327\tvalid_1's l2: 0.48424\tvalid_1's custom_asymmetric_eval: 0.587903\n",
            "[46]\ttraining's l2: 0.433704\ttraining's custom_asymmetric_eval: 0.504004\tvalid_1's l2: 0.474871\tvalid_1's custom_asymmetric_eval: 0.580982\n",
            "[47]\ttraining's l2: 0.424882\ttraining's custom_asymmetric_eval: 0.496739\tvalid_1's l2: 0.466948\tvalid_1's custom_asymmetric_eval: 0.575994\n",
            "[48]\ttraining's l2: 0.417771\ttraining's custom_asymmetric_eval: 0.490712\tvalid_1's l2: 0.460279\tvalid_1's custom_asymmetric_eval: 0.571951\n",
            "[49]\ttraining's l2: 0.412084\ttraining's custom_asymmetric_eval: 0.486456\tvalid_1's l2: 0.45496\tvalid_1's custom_asymmetric_eval: 0.569566\n",
            "[50]\ttraining's l2: 0.406152\ttraining's custom_asymmetric_eval: 0.481621\tvalid_1's l2: 0.44909\tvalid_1's custom_asymmetric_eval: 0.565878\n",
            "Did not meet early stopping. Best iteration is:\n",
            "[50]\ttraining's l2: 0.406152\ttraining's custom_asymmetric_eval: 0.481621\tvalid_1's l2: 0.44909\tvalid_1's custom_asymmetric_eval: 0.565878\n"
          ]
        }
      ]
    },
    {
      "cell_type": "code",
      "source": [
        "## 预测\n",
        "y_pred3 = gbm3.predict(x_test, num_iteration=gbm3.best_iteration)\n",
        "## 评估\n",
        "print('自定义loss和eval的lightgbm预测结果指标:')\n",
        "print('MSE为：', mean_squared_error(y_test,y_pred3))\n",
        "print('RMSE:', mean_squared_error(y_test, y_pred3) ** 0.5)\n",
        "print('R^2:', r2_score(y_test, y_pred3))"
      ],
      "metadata": {
        "colab": {
          "base_uri": "https://localhost:8080/"
        },
        "id": "hn8cqTFhkgnE",
        "outputId": "40a430c1-991d-4aa9-af94-fb360a4ae12d"
      },
      "execution_count": 40,
      "outputs": [
        {
          "output_type": "stream",
          "name": "stdout",
          "text": [
            "自定义loss和eval的lightgbm预测结果指标:\n",
            "MSE为： 0.44908958051848574\n",
            "RMSE: 0.6701414630646918\n",
            "R^2: 0.6687253919516943\n"
          ]
        }
      ]
    },
    {
      "cell_type": "code",
      "source": [],
      "metadata": {
        "id": "5iapGeaTksn9"
      },
      "execution_count": null,
      "outputs": []
    }
  ]
}