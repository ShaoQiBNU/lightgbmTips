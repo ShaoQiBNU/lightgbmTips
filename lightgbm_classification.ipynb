{
  "nbformat": 4,
  "nbformat_minor": 0,
  "metadata": {
    "colab": {
      "provenance": []
    },
    "kernelspec": {
      "name": "python3",
      "display_name": "Python 3"
    },
    "language_info": {
      "name": "python"
    }
  },
  "cells": [
    {
      "cell_type": "code",
      "source": [
        "# load package\n",
        "from sklearn import datasets \n",
        "import pandas as pd\n",
        "from sklearn.model_selection import train_test_split\n",
        "import lightgbm as lgb\n",
        "from sklearn.metrics import mean_squared_error\n",
        "from sklearn.metrics import r2_score\n",
        "from sklearn.metrics import log_loss\n",
        "from sklearn.metrics import roc_auc_score\n",
        "from sklearn.metrics import accuracy_score\n",
        "from sklearn.metrics import  precision_score\n",
        "from sklearn.metrics import confusion_matrix\n",
        "from sklearn.metrics import classification_report\n",
        "from sklearn.metrics import cohen_kappa_score\n",
        "from sklearn.metrics import f1_score\n",
        "from sklearn.datasets import fetch_california_housing\n",
        "import numpy as np\n",
        "import matplotlib.pyplot as plt"
      ],
      "metadata": {
        "id": "TK6MTyG27sga"
      },
      "execution_count": 12,
      "outputs": []
    },
    {
      "cell_type": "code",
      "source": [
        "# 导入乳腺癌数据\n",
        "cancer = datasets.load_breast_cancer()  \n",
        "Y = pd.DataFrame(data=cancer['target'], columns=['target'])\n",
        "X = pd.DataFrame(data=cancer['data'], columns=cancer['feature_names'])\n",
        "x_train, x_test, y_train, y_test = train_test_split(X, Y, test_size=0.3, random_state=10)"
      ],
      "metadata": {
        "id": "fXxhoyGK7zQr"
      },
      "execution_count": 13,
      "outputs": []
    },
    {
      "cell_type": "code",
      "source": [
        "# build lightgbm data\n",
        "lgb_train = lgb.Dataset(x_train, y_train)\n",
        "lgb_eval = lgb.Dataset(x_test, y_test, reference=lgb_train)"
      ],
      "metadata": {
        "id": "6NgfJ2bp8g8J"
      },
      "execution_count": 14,
      "outputs": []
    },
    {
      "cell_type": "code",
      "source": [
        "## 设定参数\n",
        "params = {\n",
        "    'boosting_type': 'gbdt',\n",
        "    'objective': 'binary',\n",
        "    'metric': ['binary_logloss', 'auc', 'cross_entropy'],\n",
        "    'num_leaves': 31,\n",
        "    'learning_rate': 0.05,\n",
        "    'feature_fraction': 0.9,\n",
        "    'bagging_fraction': 0.8,\n",
        "    'bagging_freq': 5,\n",
        "    'verbose': 0\n",
        "}"
      ],
      "metadata": {
        "id": "sk1BcJWI9EZF"
      },
      "execution_count": 15,
      "outputs": []
    },
    {
      "cell_type": "code",
      "source": [
        "# model train\n",
        "gbm1 = lgb.train(params,\n",
        "                lgb_train,\n",
        "                num_boost_round=10,\n",
        "                valid_sets=[lgb_train, lgb_eval],\n",
        "                early_stopping_rounds=10)"
      ],
      "metadata": {
        "colab": {
          "base_uri": "https://localhost:8080/"
        },
        "id": "ljWO5ivH9PlU",
        "outputId": "96a2831c-ce66-4e57-a473-c2eacb7ce95e"
      },
      "execution_count": 16,
      "outputs": [
        {
          "output_type": "stream",
          "name": "stdout",
          "text": [
            "[1]\ttraining's auc: 0.980526\ttraining's xentropy: 0.626414\ttraining's binary_logloss: 0.626414\tvalid_1's auc: 0.974349\tvalid_1's xentropy: 0.608637\tvalid_1's binary_logloss: 0.608637\n",
            "Training until validation scores don't improve for 10 rounds.\n",
            "[2]\ttraining's auc: 0.980526\ttraining's xentropy: 0.590854\ttraining's binary_logloss: 0.590854\tvalid_1's auc: 0.974349\tvalid_1's xentropy: 0.573687\tvalid_1's binary_logloss: 0.573687\n",
            "[3]\ttraining's auc: 0.98234\ttraining's xentropy: 0.560036\ttraining's binary_logloss: 0.560036\tvalid_1's auc: 0.983354\tvalid_1's xentropy: 0.545363\tvalid_1's binary_logloss: 0.545363\n",
            "[4]\ttraining's auc: 0.989436\ttraining's xentropy: 0.530959\ttraining's binary_logloss: 0.530959\tvalid_1's auc: 0.985775\tvalid_1's xentropy: 0.517253\tvalid_1's binary_logloss: 0.517253\n",
            "[5]\ttraining's auc: 0.988822\ttraining's xentropy: 0.504266\ttraining's binary_logloss: 0.504266\tvalid_1's auc: 0.985623\tvalid_1's xentropy: 0.490874\tvalid_1's binary_logloss: 0.490874\n",
            "[6]\ttraining's auc: 0.991023\ttraining's xentropy: 0.479707\ttraining's binary_logloss: 0.479707\tvalid_1's auc: 0.988574\tvalid_1's xentropy: 0.467473\tvalid_1's binary_logloss: 0.467473\n",
            "[7]\ttraining's auc: 0.992117\ttraining's xentropy: 0.457022\ttraining's binary_logloss: 0.457022\tvalid_1's auc: 0.99092\tvalid_1's xentropy: 0.445513\tvalid_1's binary_logloss: 0.445513\n",
            "[8]\ttraining's auc: 0.991757\ttraining's xentropy: 0.436177\ttraining's binary_logloss: 0.436177\tvalid_1's auc: 0.991828\tvalid_1's xentropy: 0.424863\tvalid_1's binary_logloss: 0.424863\n",
            "[9]\ttraining's auc: 0.991543\ttraining's xentropy: 0.416976\ttraining's binary_logloss: 0.416976\tvalid_1's auc: 0.992433\tvalid_1's xentropy: 0.405809\tvalid_1's binary_logloss: 0.405809\n",
            "[10]\ttraining's auc: 0.991517\ttraining's xentropy: 0.39913\ttraining's binary_logloss: 0.39913\tvalid_1's auc: 0.993341\tvalid_1's xentropy: 0.387673\tvalid_1's binary_logloss: 0.387673\n",
            "Did not meet early stopping. Best iteration is:\n",
            "[7]\ttraining's auc: 0.992117\ttraining's xentropy: 0.457022\ttraining's binary_logloss: 0.457022\tvalid_1's auc: 0.99092\tvalid_1's xentropy: 0.445513\tvalid_1's binary_logloss: 0.445513\n"
          ]
        }
      ]
    },
    {
      "cell_type": "code",
      "source": [
        "y_pred = gbm1.predict(x_test)\n",
        "y_pred_label = y_pred > 0.5\n",
        "print(f'ROC AUC: {roc_auc_score(y_test, y_pred):.5f}')\n",
        "print(f'Log loss: {log_loss(y_test, y_pred):.5f}')\n",
        "print('分类报告：\\n',classification_report(y_test, y_pred_label))"
      ],
      "metadata": {
        "colab": {
          "base_uri": "https://localhost:8080/"
        },
        "id": "XHxaDRE-EHes",
        "outputId": "a0c69509-130b-470f-9ad5-9c1adb80871a"
      },
      "execution_count": 17,
      "outputs": [
        {
          "output_type": "stream",
          "name": "stdout",
          "text": [
            "ROC AUC: 0.99092\n",
            "Log loss: 0.44551\n",
            "分类报告：\n",
            "               precision    recall  f1-score   support\n",
            "\n",
            "           0       0.96      0.78      0.86        59\n",
            "           1       0.89      0.98      0.94       112\n",
            "\n",
            "    accuracy                           0.91       171\n",
            "   macro avg       0.93      0.88      0.90       171\n",
            "weighted avg       0.92      0.91      0.91       171\n",
            "\n"
          ]
        }
      ]
    },
    {
      "cell_type": "code",
      "source": [
        "## sigmoid\n",
        "def sigmoid(x):\n",
        "    return 1 / (1 + np.exp(-x))\n",
        "\n",
        "## 自定义损失函数需要提供损失函数的一阶和二阶导数形式\n",
        "def loglikelood(preds, train_data):\n",
        "    labels = train_data.get_label()\n",
        "    preds = sigmoid(preds)\n",
        "    grad = preds - labels\n",
        "    hess = preds * (1. - preds)\n",
        "    return grad, hess\n",
        "\n",
        "## 自定义评估函数\n",
        "def binary_error(preds, train_data):\n",
        "    labels = train_data.get_label()\n",
        "    preds = sigmoid(preds)\n",
        "    return 'error', -np.average(labels* np.log(preds) + (1-labels) * np.log(1-preds)), False\n",
        "    #return 'error', log_loss(labels, preds), False\n",
        "    \n",
        "\n",
        "gbm2 = lgb.train(params,\n",
        "                lgb_train,\n",
        "                num_boost_round=10,\n",
        "                fobj=loglikelood,\n",
        "                feval=binary_error,\n",
        "                valid_sets=[lgb_train, lgb_eval],\n",
        "                early_stopping_rounds=10)"
      ],
      "metadata": {
        "colab": {
          "base_uri": "https://localhost:8080/"
        },
        "id": "qBByZsqr8DoL",
        "outputId": "91015ab0-0e3f-4f93-f08c-06229339c141"
      },
      "execution_count": 18,
      "outputs": [
        {
          "output_type": "stream",
          "name": "stdout",
          "text": [
            "[1]\ttraining's auc: 0.980526\ttraining's xentropy: 2.16342\ttraining's binary_logloss: 2.35433\ttraining's error: 0.652955\tvalid_1's auc: 0.974349\tvalid_1's xentropy: 2.41692\tvalid_1's binary_logloss: 2.6593\tvalid_1's error: 0.652108\n",
            "Training until validation scores don't improve for 10 rounds.\n",
            "[2]\ttraining's auc: 0.980526\ttraining's xentropy: 1.74556\ttraining's binary_logloss: 1.93648\ttraining's error: 0.616618\tvalid_1's auc: 0.974349\tvalid_1's xentropy: 1.97925\tvalid_1's binary_logloss: 2.22163\tvalid_1's error: 0.615016\n",
            "[3]\ttraining's auc: 0.981446\ttraining's xentropy: 1.21091\ttraining's binary_logloss: 1.31504\ttraining's error: 0.58478\tvalid_1's auc: 0.980176\tvalid_1's xentropy: 1.74756\tvalid_1's binary_logloss: 1.98994\tvalid_1's error: 0.584646\n",
            "[4]\ttraining's auc: 0.980752\ttraining's xentropy: 1.32989\ttraining's binary_logloss: 1.52081\ttraining's error: 0.554487\tvalid_1's auc: 0.980478\tvalid_1's xentropy: 1.55695\tvalid_1's binary_logloss: 1.79933\tvalid_1's error: 0.553659\n",
            "[5]\ttraining's auc: 0.986395\ttraining's xentropy: 1.19261\ttraining's binary_logloss: 1.38353\ttraining's error: 0.526809\tvalid_1's auc: 0.980024\tvalid_1's xentropy: 1.4118\tvalid_1's binary_logloss: 1.65417\tvalid_1's error: 0.52568\n",
            "[6]\ttraining's auc: 0.990169\ttraining's xentropy: 0.89702\ttraining's binary_logloss: 1.03587\ttraining's error: 0.501104\tvalid_1's auc: 0.988045\tvalid_1's xentropy: 1.29425\tvalid_1's binary_logloss: 1.53662\tvalid_1's error: 0.500064\n",
            "[7]\ttraining's auc: 0.990796\ttraining's xentropy: 0.676721\ttraining's binary_logloss: 0.780858\ttraining's error: 0.477775\tvalid_1's auc: 0.989558\tvalid_1's xentropy: 1.05133\tvalid_1's binary_logloss: 1.25331\tvalid_1's error: 0.476271\n",
            "[8]\ttraining's auc: 0.990756\ttraining's xentropy: 0.654831\ttraining's binary_logloss: 0.776325\ttraining's error: 0.455986\tvalid_1's auc: 0.991071\tvalid_1's xentropy: 0.968787\tvalid_1's binary_logloss: 1.17077\tvalid_1's error: 0.454025\n",
            "[9]\ttraining's auc: 0.990676\ttraining's xentropy: 0.586277\ttraining's binary_logloss: 0.70777\ttraining's error: 0.435866\tvalid_1's auc: 0.991071\tvalid_1's xentropy: 0.898074\tvalid_1's binary_logloss: 1.10006\tvalid_1's error: 0.433464\n",
            "[10]\ttraining's auc: 0.990956\ttraining's xentropy: 0.458238\ttraining's binary_logloss: 0.562375\ttraining's error: 0.416945\tvalid_1's auc: 0.991677\tvalid_1's xentropy: 0.821589\tvalid_1's binary_logloss: 1.02357\tvalid_1's error: 0.413451\n",
            "Did not meet early stopping. Best iteration is:\n",
            "[10]\ttraining's auc: 0.990956\ttraining's xentropy: 0.458238\ttraining's binary_logloss: 0.562375\ttraining's error: 0.416945\tvalid_1's auc: 0.991677\tvalid_1's xentropy: 0.821589\tvalid_1's binary_logloss: 1.02357\tvalid_1's error: 0.413451\n"
          ]
        }
      ]
    },
    {
      "cell_type": "code",
      "source": [
        "y_pred = sigmoid(gbm2.predict(x_test))\n",
        "y_pred_label = y_pred > 0.5\n",
        "print(f'ROC AUC: {roc_auc_score(y_test, y_pred):.5f}')\n",
        "print(f'Log loss: {log_loss(y_test, y_pred):.5f}')\n",
        "print('分类报告：\\n',classification_report(y_test, y_pred_label))"
      ],
      "metadata": {
        "colab": {
          "base_uri": "https://localhost:8080/"
        },
        "id": "Qjbgvcd5Ihrl",
        "outputId": "cebcd5b9-7b1d-4102-9699-37b9c57f65a9"
      },
      "execution_count": 19,
      "outputs": [
        {
          "output_type": "stream",
          "name": "stdout",
          "text": [
            "ROC AUC: 0.99168\n",
            "Log loss: 0.41345\n",
            "分类报告：\n",
            "               precision    recall  f1-score   support\n",
            "\n",
            "           0       0.92      0.95      0.93        59\n",
            "           1       0.97      0.96      0.96       112\n",
            "\n",
            "    accuracy                           0.95       171\n",
            "   macro avg       0.95      0.95      0.95       171\n",
            "weighted avg       0.95      0.95      0.95       171\n",
            "\n"
          ]
        }
      ]
    },
    {
      "cell_type": "code",
      "source": [
        "def log_loss_init_score(y):\n",
        "    pavg = y.mean()\n",
        "    pavg = np.clip(pavg, 1e-15, 1 - 1e-15)\n",
        "    g = np.log(pavg / (1. - pavg))\n",
        "    return g\n",
        "\n",
        "# init score\n",
        "init_score_train = np.full_like(y_train, log_loss_init_score(y_train), dtype=float).flatten()\n",
        "init_score_test = np.full_like(y_test, log_loss_init_score(y_train), dtype=float).flatten()\n",
        "\n",
        "# build lightgbm data\n",
        "lgb_train = lgb.Dataset(x_train, y_train, init_score=init_score_train)\n",
        "lgb_eval = lgb.Dataset(x_test, y_test, init_score=init_score_test, reference=lgb_train)\n",
        "\n",
        "params = {\n",
        "    'boosting_type': 'gbdt',\n",
        "    'objective': 'binary',\n",
        "    'metric': ['binary_logloss', 'auc', 'cross_entropy'],\n",
        "    'num_leaves': 31,\n",
        "    'learning_rate': 0.05,\n",
        "    'feature_fraction': 0.9,\n",
        "    'bagging_fraction': 0.8,\n",
        "    'bagging_freq': 5,\n",
        "    'verbose': 0,\n",
        "    'boost_from_average': True\n",
        "}\n",
        "\n",
        "gbm3 = lgb.train(params,\n",
        "                lgb_train,\n",
        "                num_boost_round=10,\n",
        "                fobj=loglikelood,\n",
        "                feval=binary_error,\n",
        "                valid_sets=[lgb_train, lgb_eval],\n",
        "                early_stopping_rounds=10)"
      ],
      "metadata": {
        "colab": {
          "base_uri": "https://localhost:8080/"
        },
        "id": "ozmXZ_-A9fJI",
        "outputId": "440614ac-548e-4574-ea95-9e59a7a562e0"
      },
      "execution_count": 20,
      "outputs": [
        {
          "output_type": "stream",
          "name": "stdout",
          "text": [
            "[1]\ttraining's auc: 0.980526\ttraining's xentropy: 0.560186\ttraining's binary_logloss: 0.560186\ttraining's error: 0.626414\tvalid_1's auc: 0.974349\tvalid_1's xentropy: 0.564444\tvalid_1's binary_logloss: 0.564444\tvalid_1's error: 0.608637\n",
            "Training until validation scores don't improve for 10 rounds.\n",
            "[2]\ttraining's auc: 0.980526\ttraining's xentropy: 0.442357\ttraining's binary_logloss: 0.442357\ttraining's error: 0.590854\tvalid_1's auc: 0.974349\tvalid_1's xentropy: 0.447013\tvalid_1's binary_logloss: 0.447013\tvalid_1's error: 0.573687\n",
            "[3]\ttraining's auc: 0.98234\ttraining's xentropy: 0.347519\ttraining's binary_logloss: 0.347519\ttraining's error: 0.560036\tvalid_1's auc: 0.983354\tvalid_1's xentropy: 0.363806\tvalid_1's binary_logloss: 0.363806\tvalid_1's error: 0.545363\n",
            "[4]\ttraining's auc: 0.989436\ttraining's xentropy: 0.267194\ttraining's binary_logloss: 0.267194\ttraining's error: 0.530959\tvalid_1's auc: 0.985775\tvalid_1's xentropy: 0.303288\tvalid_1's binary_logloss: 0.303288\tvalid_1's error: 0.517253\n",
            "[5]\ttraining's auc: 0.988822\ttraining's xentropy: 0.251256\ttraining's binary_logloss: 0.268612\ttraining's error: 0.504266\tvalid_1's auc: 0.985623\tvalid_1's xentropy: 0.49626\tvalid_1's binary_logloss: 0.577052\tvalid_1's error: 0.490874\n",
            "[6]\ttraining's auc: 0.991023\ttraining's xentropy: 0.183754\ttraining's binary_logloss: 0.201111\ttraining's error: 0.479707\tvalid_1's auc: 0.988574\tvalid_1's xentropy: 0.429099\tvalid_1's binary_logloss: 0.509891\tvalid_1's error: 0.467473\n",
            "[7]\ttraining's auc: 0.992117\ttraining's xentropy: 0.124772\ttraining's binary_logloss: 0.142128\ttraining's error: 0.457022\tvalid_1's auc: 0.99092\tvalid_1's xentropy: 0.372119\tvalid_1's binary_logloss: 0.452911\tvalid_1's error: 0.445513\n",
            "[8]\ttraining's auc: 0.991757\ttraining's xentropy: 0.0774086\ttraining's binary_logloss: 0.0947648\ttraining's error: 0.436177\tvalid_1's auc: 0.991828\tvalid_1's xentropy: 0.318381\tvalid_1's binary_logloss: 0.399174\tvalid_1's error: 0.424863\n",
            "[9]\ttraining's auc: 0.991543\ttraining's xentropy: 0.090308\ttraining's binary_logloss: 0.12502\ttraining's error: 0.416976\tvalid_1's auc: 0.992433\tvalid_1's xentropy: 0.271895\tvalid_1's binary_logloss: 0.352687\tvalid_1's error: 0.405809\n",
            "[10]\ttraining's auc: 0.991517\ttraining's xentropy: 0.113533\ttraining's binary_logloss: 0.165602\ttraining's error: 0.39913\tvalid_1's auc: 0.993341\tvalid_1's xentropy: 0.510053\tvalid_1's binary_logloss: 0.671638\tvalid_1's error: 0.387673\n",
            "Did not meet early stopping. Best iteration is:\n",
            "[7]\ttraining's auc: 0.992117\ttraining's xentropy: 0.124772\ttraining's binary_logloss: 0.142128\ttraining's error: 0.457022\tvalid_1's auc: 0.99092\tvalid_1's xentropy: 0.372119\tvalid_1's binary_logloss: 0.452911\tvalid_1's error: 0.445513\n"
          ]
        }
      ]
    },
    {
      "cell_type": "code",
      "source": [
        "y_pred = sigmoid(gbm3.predict(x_test))\n",
        "y_pred_label = y_pred > 0.5\n",
        "print(f'ROC AUC: {roc_auc_score(y_test, y_pred):.5f}')\n",
        "print(f'Log loss: {log_loss(y_test, y_pred):.5f}')\n",
        "print('分类报告：\\n',classification_report(y_test, y_pred_label))"
      ],
      "metadata": {
        "colab": {
          "base_uri": "https://localhost:8080/"
        },
        "id": "U2qHmsknO3NU",
        "outputId": "b03ea3c2-4477-48a0-a38c-fd922d6aeb84"
      },
      "execution_count": 21,
      "outputs": [
        {
          "output_type": "stream",
          "name": "stdout",
          "text": [
            "ROC AUC: 0.99092\n",
            "Log loss: 0.48444\n",
            "分类报告：\n",
            "               precision    recall  f1-score   support\n",
            "\n",
            "           0       0.90      0.97      0.93        59\n",
            "           1       0.98      0.95      0.96       112\n",
            "\n",
            "    accuracy                           0.95       171\n",
            "   macro avg       0.94      0.96      0.95       171\n",
            "weighted avg       0.96      0.95      0.95       171\n",
            "\n"
          ]
        }
      ]
    },
    {
      "cell_type": "code",
      "source": [],
      "metadata": {
        "id": "uW1QtAidywtH"
      },
      "execution_count": 21,
      "outputs": []
    }
  ]
}